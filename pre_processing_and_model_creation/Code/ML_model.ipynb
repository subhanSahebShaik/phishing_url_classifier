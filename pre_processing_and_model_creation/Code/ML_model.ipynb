{
 "cells": [
  {
   "cell_type": "markdown",
   "metadata": {},
   "source": [
    "# Machine Learning Model for URL Classification"
   ]
  },
  {
   "cell_type": "markdown",
   "metadata": {},
   "source": [
    "In this notebook, we ran ML algorithms ( Decision tree, Kernal SVM and Random Forest ) on our URL features for classification.  The results from each of these algorithms are:\n",
    "\n",
    "Decision Tree: 0.867\n",
    "\n",
    "KNN          : 0.8655\n",
    "\n",
    "Random Forest: 0.879"
   ]
  },
  {
   "cell_type": "code",
   "execution_count": 98,
   "metadata": {},
   "outputs": [],
   "source": [
    "import numpy as np\n",
    "import pandas as pd\n",
    "import matplotlib.pyplot as plt"
   ]
  },
  {
   "cell_type": "code",
   "execution_count": 99,
   "metadata": {},
   "outputs": [],
   "source": [
    "feature_dataset = pd.read_csv(\"../Data/FeaturesDataset/features.csv\")\n",
    "label_dataset = pd.read_csv(\"../Data/CleanedDataset/merged_whois_verified_urls.csv\")"
   ]
  },
  {
   "cell_type": "code",
   "execution_count": 100,
   "metadata": {},
   "outputs": [
    {
     "data": {
      "text/html": [
       "<div>\n",
       "<style scoped>\n",
       "    .dataframe tbody tr th:only-of-type {\n",
       "        vertical-align: middle;\n",
       "    }\n",
       "\n",
       "    .dataframe tbody tr th {\n",
       "        vertical-align: top;\n",
       "    }\n",
       "\n",
       "    .dataframe thead th {\n",
       "        text-align: right;\n",
       "    }\n",
       "</style>\n",
       "<table border=\"1\" class=\"dataframe\">\n",
       "  <thead>\n",
       "    <tr style=\"text-align: right;\">\n",
       "      <th></th>\n",
       "      <th>whois_regDate</th>\n",
       "      <th>whois_expDate</th>\n",
       "      <th>whois_updatedDate</th>\n",
       "      <th>dot_count</th>\n",
       "      <th>url_len</th>\n",
       "      <th>digit_count</th>\n",
       "      <th>special_count</th>\n",
       "      <th>hyphen_count</th>\n",
       "      <th>double_slash</th>\n",
       "      <th>single_slash</th>\n",
       "      <th>at_the_rate</th>\n",
       "      <th>protocol</th>\n",
       "      <th>protocol_count</th>\n",
       "    </tr>\n",
       "  </thead>\n",
       "  <tbody>\n",
       "    <tr>\n",
       "      <th>0</th>\n",
       "      <td>403</td>\n",
       "      <td>326</td>\n",
       "      <td>23</td>\n",
       "      <td>6</td>\n",
       "      <td>225</td>\n",
       "      <td>58</td>\n",
       "      <td>12</td>\n",
       "      <td>4</td>\n",
       "      <td>0</td>\n",
       "      <td>10</td>\n",
       "      <td>0</td>\n",
       "      <td>0</td>\n",
       "      <td>0</td>\n",
       "    </tr>\n",
       "    <tr>\n",
       "      <th>1</th>\n",
       "      <td>2727</td>\n",
       "      <td>194</td>\n",
       "      <td>168</td>\n",
       "      <td>7</td>\n",
       "      <td>177</td>\n",
       "      <td>47</td>\n",
       "      <td>0</td>\n",
       "      <td>1</td>\n",
       "      <td>0</td>\n",
       "      <td>11</td>\n",
       "      <td>0</td>\n",
       "      <td>0</td>\n",
       "      <td>0</td>\n",
       "    </tr>\n",
       "    <tr>\n",
       "      <th>2</th>\n",
       "      <td>5431</td>\n",
       "      <td>46</td>\n",
       "      <td>317</td>\n",
       "      <td>6</td>\n",
       "      <td>60</td>\n",
       "      <td>0</td>\n",
       "      <td>0</td>\n",
       "      <td>0</td>\n",
       "      <td>0</td>\n",
       "      <td>2</td>\n",
       "      <td>0</td>\n",
       "      <td>0</td>\n",
       "      <td>0</td>\n",
       "    </tr>\n",
       "    <tr>\n",
       "      <th>3</th>\n",
       "      <td>3643</td>\n",
       "      <td>374</td>\n",
       "      <td>5</td>\n",
       "      <td>1</td>\n",
       "      <td>116</td>\n",
       "      <td>21</td>\n",
       "      <td>1</td>\n",
       "      <td>1</td>\n",
       "      <td>1</td>\n",
       "      <td>10</td>\n",
       "      <td>0</td>\n",
       "      <td>0</td>\n",
       "      <td>0</td>\n",
       "    </tr>\n",
       "    <tr>\n",
       "      <th>4</th>\n",
       "      <td>-1</td>\n",
       "      <td>-1</td>\n",
       "      <td>-1</td>\n",
       "      <td>3</td>\n",
       "      <td>36</td>\n",
       "      <td>0</td>\n",
       "      <td>0</td>\n",
       "      <td>0</td>\n",
       "      <td>0</td>\n",
       "      <td>1</td>\n",
       "      <td>0</td>\n",
       "      <td>0</td>\n",
       "      <td>0</td>\n",
       "    </tr>\n",
       "  </tbody>\n",
       "</table>\n",
       "</div>"
      ],
      "text/plain": [
       "   whois_regDate  whois_expDate  whois_updatedDate  dot_count  url_len  \\\n",
       "0            403            326                 23          6      225   \n",
       "1           2727            194                168          7      177   \n",
       "2           5431             46                317          6       60   \n",
       "3           3643            374                  5          1      116   \n",
       "4             -1             -1                 -1          3       36   \n",
       "\n",
       "   digit_count  special_count  hyphen_count  double_slash  single_slash  \\\n",
       "0           58             12             4             0            10   \n",
       "1           47              0             1             0            11   \n",
       "2            0              0             0             0             2   \n",
       "3           21              1             1             1            10   \n",
       "4            0              0             0             0             1   \n",
       "\n",
       "   at_the_rate  protocol  protocol_count  \n",
       "0            0         0               0  \n",
       "1            0         0               0  \n",
       "2            0         0               0  \n",
       "3            0         0               0  \n",
       "4            0         0               0  "
      ]
     },
     "execution_count": 100,
     "metadata": {},
     "output_type": "execute_result"
    }
   ],
   "source": [
    "feature_dataset.head()"
   ]
  },
  {
   "cell_type": "code",
   "execution_count": 101,
   "metadata": {},
   "outputs": [
    {
     "data": {
      "text/html": [
       "<div>\n",
       "<style scoped>\n",
       "    .dataframe tbody tr th:only-of-type {\n",
       "        vertical-align: middle;\n",
       "    }\n",
       "\n",
       "    .dataframe tbody tr th {\n",
       "        vertical-align: top;\n",
       "    }\n",
       "\n",
       "    .dataframe thead th {\n",
       "        text-align: right;\n",
       "    }\n",
       "</style>\n",
       "<table border=\"1\" class=\"dataframe\">\n",
       "  <thead>\n",
       "    <tr style=\"text-align: right;\">\n",
       "      <th></th>\n",
       "      <th>url</th>\n",
       "      <th>label</th>\n",
       "    </tr>\n",
       "  </thead>\n",
       "  <tbody>\n",
       "    <tr>\n",
       "      <th>0</th>\n",
       "      <td>nobell.it/70ffb52d079109dca5664cce6f317373782/...</td>\n",
       "      <td>1</td>\n",
       "    </tr>\n",
       "    <tr>\n",
       "      <th>1</th>\n",
       "      <td>serviciosbys.com/paypal.cgi.bin.get-into.herf....</td>\n",
       "      <td>1</td>\n",
       "    </tr>\n",
       "    <tr>\n",
       "      <th>2</th>\n",
       "      <td>mail.printakid.com/www.online.americanexpress....</td>\n",
       "      <td>1</td>\n",
       "    </tr>\n",
       "    <tr>\n",
       "      <th>3</th>\n",
       "      <td>thewhiskeydregs.com/wp-content/themes/widescre...</td>\n",
       "      <td>1</td>\n",
       "    </tr>\n",
       "    <tr>\n",
       "      <th>4</th>\n",
       "      <td>smilesvoegol.servebbs.org/voegol.php</td>\n",
       "      <td>1</td>\n",
       "    </tr>\n",
       "  </tbody>\n",
       "</table>\n",
       "</div>"
      ],
      "text/plain": [
       "                                                 url  label\n",
       "0  nobell.it/70ffb52d079109dca5664cce6f317373782/...      1\n",
       "1  serviciosbys.com/paypal.cgi.bin.get-into.herf....      1\n",
       "2  mail.printakid.com/www.online.americanexpress....      1\n",
       "3  thewhiskeydregs.com/wp-content/themes/widescre...      1\n",
       "4               smilesvoegol.servebbs.org/voegol.php      1"
      ]
     },
     "execution_count": 101,
     "metadata": {},
     "output_type": "execute_result"
    }
   ],
   "source": [
    "label_dataset.head()"
   ]
  },
  {
   "cell_type": "code",
   "execution_count": 102,
   "metadata": {},
   "outputs": [],
   "source": [
    "X = feature_dataset.iloc[:,[0,1,2,3,4,5,6,7,8,9,10,12] ].values #not including protocol feature\n",
    "y = label_dataset.iloc[:, [1]].values\n"
   ]
  },
  {
   "cell_type": "markdown",
   "metadata": {},
   "source": [
    "Protocol feature which labels 1 for HTTP ( Malicious ) and 0 for HTTPS ( Benign ). Here, we dropped the because we noticed that majority of benign URLs are neither starting from HTTP nor HTTPS. For example, WWW.EXAMPLE.COM"
   ]
  },
  {
   "cell_type": "code",
   "execution_count": 103,
   "metadata": {},
   "outputs": [
    {
     "name": "stdout",
     "output_type": "stream",
     "text": [
      "X shape: (10000, 12)\n",
      "y shape: (10000, 1)\n"
     ]
    }
   ],
   "source": [
    "print(f'X shape: {X.shape}')\n",
    "print(f'y shape: {y.shape}')"
   ]
  },
  {
   "cell_type": "code",
   "execution_count": 104,
   "metadata": {},
   "outputs": [],
   "source": [
    "from sklearn.model_selection import train_test_split\n",
    "X_train,X_test,y_train,y_test = train_test_split(X,y,test_size=0.2)"
   ]
  },
  {
   "cell_type": "code",
   "execution_count": 105,
   "metadata": {},
   "outputs": [
    {
     "name": "stdout",
     "output_type": "stream",
     "text": [
      "X_train (8000, 12)\n",
      "X_test (2000, 12)\n",
      "y_train (8000, 1)\n",
      "y_test (2000, 1)\n"
     ]
    }
   ],
   "source": [
    "print('X_train', X_train.shape)\n",
    "print('X_test', X_test.shape)\n",
    "print('y_train', y_train.shape)\n",
    "print('y_test', y_test.shape)"
   ]
  },
  {
   "cell_type": "code",
   "execution_count": 106,
   "metadata": {},
   "outputs": [],
   "source": [
    "from sklearn.preprocessing import StandardScaler\n",
    "scaler = StandardScaler()\n",
    "X_train = scaler.fit_transform(X_train)\n",
    "X_test = scaler.transform(X_test)"
   ]
  },
  {
   "cell_type": "code",
   "execution_count": 107,
   "metadata": {},
   "outputs": [],
   "source": [
    "def get_dt_results():\n",
    "    from sklearn.tree import DecisionTreeClassifier\n",
    "    classifier = DecisionTreeClassifier(criterion='entropy',random_state=0)\n",
    "    classifier.fit(X_train,y_train)\n",
    "    y_pred = classifier.predict(X_test)\n",
    "    from sklearn.metrics import confusion_matrix,accuracy_score\n",
    "    cm = confusion_matrix(y_test,y_pred)\n",
    "    accuracy = accuracy_score(y_test,y_pred)\n",
    "    result_dict = {\"accuracy\":accuracy,\"cm\":cm}\n",
    "    return result_dict"
   ]
  },
  {
   "cell_type": "code",
   "execution_count": 108,
   "metadata": {},
   "outputs": [],
   "source": [
    "def get_knn_results():\n",
    "    #Fitting into KNN\n",
    "    from sklearn.neighbors import KNeighborsClassifier\n",
    "    classifier = KNeighborsClassifier(n_neighbors=5,metric='minkowski',p=2) #To select which method to use to calculate \n",
    "    #distance, we need to define metric first and then p value 1 for manhattan distance, 2 for euclidian distance\n",
    "    classifier.fit(X_train,y_train)\n",
    "    y_pred = classifier.predict(X_test)\n",
    "    from sklearn.metrics import confusion_matrix,accuracy_score\n",
    "    cm = confusion_matrix(y_test,y_pred)\n",
    "    accuracy = accuracy_score(y_test,y_pred)\n",
    "    result_dict = {\"accuracy\":accuracy,\"cm\":cm}\n",
    "    return result_dict\n",
    "    "
   ]
  },
  {
   "cell_type": "code",
   "execution_count": 109,
   "metadata": {},
   "outputs": [],
   "source": [
    "def get_kernel_SVM_results():\n",
    "    from sklearn.svm import SVC\n",
    "    classifier = SVC(kernel=\"rbf\",random_state=0)\n",
    "    classifier.fit(X_train,y_train)\n",
    "    y_pred = classifier.predict(X_test)\n",
    "    from sklearn.metrics import confusion_matrix,accuracy_score\n",
    "    cm = confusion_matrix(y_test,y_pred)\n",
    "    accuracy = accuracy_score(y_test,y_pred)\n",
    "    result_dict = {\"accuracy\":accuracy,\"cm\":cm}\n",
    "    return result_dict"
   ]
  },
  {
   "cell_type": "code",
   "execution_count": 110,
   "metadata": {},
   "outputs": [],
   "source": [
    "def get_logistic_reg_results():\n",
    "    from sklearn.linear_model import LogisticRegression\n",
    "    classifier = LogisticRegression(random_state=0)\n",
    "    classifier.fit(X_train,y_train)\n",
    "    y_pred = classifier.predict(X_test)\n",
    "    from sklearn.metrics import confusion_matrix,accuracy_score\n",
    "    cm = confusion_matrix(y_test,y_pred)\n",
    "    accuracy = accuracy_score(y_test,y_pred)\n",
    "    result_dict = {\"accuracy\":accuracy,\"cm\":cm}\n",
    "    return result_dict"
   ]
  },
  {
   "cell_type": "code",
   "execution_count": 111,
   "metadata": {},
   "outputs": [],
   "source": [
    "def get_naive_bayes_results():\n",
    "    from sklearn.naive_bayes import GaussianNB\n",
    "    classifier = GaussianNB()\n",
    "    classifier.fit(X_train,y_train)\n",
    "    y_pred = classifier.predict(X_test)\n",
    "    from sklearn.metrics import confusion_matrix,accuracy_score\n",
    "    cm = confusion_matrix(y_test,y_pred)\n",
    "    accuracy = accuracy_score(y_test,y_pred)\n",
    "    result_dict = {\"accuracy\":accuracy,\"cm\":cm}\n",
    "    return result_dict"
   ]
  },
  {
   "cell_type": "code",
   "execution_count": 112,
   "metadata": {},
   "outputs": [],
   "source": [
    "r_estimator = None\n",
    "def get_random_forest_results():\n",
    "    global r_estimator\n",
    "    from sklearn.ensemble import RandomForestClassifier\n",
    "    classifier = RandomForestClassifier()\n",
    "    classifier.fit(X_train,y_train)\n",
    "    y_pred = classifier.predict(X_test)\n",
    "    from sklearn.metrics import confusion_matrix,accuracy_score\n",
    "    cm = confusion_matrix(y_test,y_pred)\n",
    "    accuracy = accuracy_score(y_test,y_pred)\n",
    "    result_dict = {\"accuracy\":accuracy,\"cm\":cm}\n",
    "    r_estimator = classifier\n",
    "    return result_dict"
   ]
  },
  {
   "cell_type": "code",
   "execution_count": 113,
   "metadata": {},
   "outputs": [],
   "source": [
    "def get_svm_results():\n",
    "    from sklearn.svm import SVC\n",
    "    classifier = SVC(kernel='linear',random_state=0)\n",
    "    classifier.fit(X_train,y_train)\n",
    "    y_pred = classifier.predict(X_test)\n",
    "    from sklearn.metrics import confusion_matrix,accuracy_score\n",
    "    cm = confusion_matrix(y_test,y_pred)\n",
    "    accuracy = accuracy_score(y_test,y_pred)\n",
    "    result_dict = {\"accuracy\":accuracy,\"cm\":cm}\n",
    "    return result_dict"
   ]
  },
  {
   "cell_type": "code",
   "execution_count": 114,
   "metadata": {},
   "outputs": [],
   "source": [
    "def get_classification_results():\n",
    "    results_dict = {}\n",
    "    dt = get_dt_results()\n",
    "    knn = get_knn_results()\n",
    "    kernelsvm = get_kernel_SVM_results()\n",
    "    logreg = get_logistic_reg_results()\n",
    "    nb = get_naive_bayes_results()\n",
    "    rf = get_random_forest_results()\n",
    "    svm = get_svm_results()\n",
    "    results_dict = {\"Decision Tree\":dt,\"KNN\":knn,\"Kernel SVM\":kernelsvm,\"Log Regression\":logreg,\"Naive Bayes\":nb,\"Random Forest\":rf,\"SVM\":svm}\n",
    "    return results_dict\n"
   ]
  },
  {
   "cell_type": "code",
   "execution_count": 115,
   "metadata": {},
   "outputs": [
    {
     "name": "stderr",
     "output_type": "stream",
     "text": [
      "d:\\Phishing URL Classification - Project Folder\\env\\Lib\\site-packages\\sklearn\\neighbors\\_classification.py:238: DataConversionWarning: A column-vector y was passed when a 1d array was expected. Please change the shape of y to (n_samples,), for example using ravel().\n",
      "  return self._fit(X, y)\n",
      "d:\\Phishing URL Classification - Project Folder\\env\\Lib\\site-packages\\sklearn\\utils\\validation.py:1300: DataConversionWarning: A column-vector y was passed when a 1d array was expected. Please change the shape of y to (n_samples, ), for example using ravel().\n",
      "  y = column_or_1d(y, warn=True)\n"
     ]
    },
    {
     "name": "stderr",
     "output_type": "stream",
     "text": [
      "d:\\Phishing URL Classification - Project Folder\\env\\Lib\\site-packages\\sklearn\\utils\\validation.py:1300: DataConversionWarning: A column-vector y was passed when a 1d array was expected. Please change the shape of y to (n_samples, ), for example using ravel().\n",
      "  y = column_or_1d(y, warn=True)\n",
      "d:\\Phishing URL Classification - Project Folder\\env\\Lib\\site-packages\\sklearn\\utils\\validation.py:1300: DataConversionWarning: A column-vector y was passed when a 1d array was expected. Please change the shape of y to (n_samples, ), for example using ravel().\n",
      "  y = column_or_1d(y, warn=True)\n",
      "d:\\Phishing URL Classification - Project Folder\\env\\Lib\\site-packages\\sklearn\\base.py:1474: DataConversionWarning: A column-vector y was passed when a 1d array was expected. Please change the shape of y to (n_samples,), for example using ravel().\n",
      "  return fit_method(estimator, *args, **kwargs)\n",
      "d:\\Phishing URL Classification - Project Folder\\env\\Lib\\site-packages\\sklearn\\utils\\validation.py:1300: DataConversionWarning: A column-vector y was passed when a 1d array was expected. Please change the shape of y to (n_samples, ), for example using ravel().\n",
      "  y = column_or_1d(y, warn=True)\n"
     ]
    }
   ],
   "source": [
    "classification_results = get_classification_results()"
   ]
  },
  {
   "cell_type": "code",
   "execution_count": 116,
   "metadata": {},
   "outputs": [
    {
     "name": "stdout",
     "output_type": "stream",
     "text": [
      "Decision Tree: (0.874, array([[842, 114],\n",
      "       [138, 906]], dtype=int64))\n",
      "KNN: (0.8715, array([[849, 107],\n",
      "       [150, 894]], dtype=int64))\n",
      "Kernel SVM: (0.834, array([[844, 112],\n",
      "       [220, 824]], dtype=int64))\n",
      "Log Regression: (0.758, array([[704, 252],\n",
      "       [232, 812]], dtype=int64))\n",
      "Naive Bayes: (0.674, array([[950,   6],\n",
      "       [646, 398]], dtype=int64))\n",
      "Random Forest: (0.9035, array([[863,  93],\n",
      "       [100, 944]], dtype=int64))\n",
      "SVM: (0.781, array([[699, 257],\n",
      "       [181, 863]], dtype=int64))\n"
     ]
    }
   ],
   "source": [
    "for k,v in classification_results.items():\n",
    "    print(f\"{k}: {v['accuracy'],v['cm']}\")"
   ]
  },
  {
   "cell_type": "markdown",
   "metadata": {},
   "source": [
    "***"
   ]
  },
  {
   "cell_type": "code",
   "execution_count": 117,
   "metadata": {},
   "outputs": [],
   "source": [
    "import pickle\n",
    "\n",
    "pickle.dump(r_estimator, open(\"../Models/random_forest_calssifier.pkl\", \"wb\"))\n"
   ]
  }
 ],
 "metadata": {
  "kernelspec": {
   "display_name": "Python 3",
   "language": "python",
   "name": "python3"
  },
  "language_info": {
   "codemirror_mode": {
    "name": "ipython",
    "version": 3
   },
   "file_extension": ".py",
   "mimetype": "text/x-python",
   "name": "python",
   "nbconvert_exporter": "python",
   "pygments_lexer": "ipython3",
   "version": "3.11.4"
  }
 },
 "nbformat": 4,
 "nbformat_minor": 2
}
